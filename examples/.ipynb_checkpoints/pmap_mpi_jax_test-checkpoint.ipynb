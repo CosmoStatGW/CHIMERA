{
 "cells": [
  {
   "cell_type": "code",
   "execution_count": null,
   "id": "6ecf6fd5",
   "metadata": {},
   "outputs": [],
   "source": [
    "USE_GPU = False\n",
    "\n",
    "import os\n",
    "os.environ[\"XLA_FLAGS\"] = '--xla_force_host_platform_device_count=8'\n",
    "\n",
    "########################################\n",
    "#Do not touch what's follow\n",
    "\n",
    "import jax\n",
    "jax.config.update(\"jax_enable_x64\", True)\n",
    "\n",
    "if USE_GPU:\n",
    "\tjax.config.update('jax_platform_name', 'gpu')\n",
    "else:\t\n",
    "\tjax.config.update('jax_platform_name', 'cpu')\n",
    "\t\n",
    "import jax.numpy as jnp\n",
    "\n",
    "print(jax.__version__)\n",
    "print(jax.lib.xla_bridge.get_backend().platform)\n",
    "\n",
    "from jax.experimental import mesh_utils\n",
    "from jax.sharding import Mesh\n",
    "from jax.sharding import NamedSharding\n",
    "from jax.sharding import PositionalSharding\n",
    "from jax.sharding import PartitionSpec as P\n",
    "\n",
    "# A handy utility to get the details related to sharding\n",
    "def get_sharding_details(sharded_data):\n",
    "    print(\"\\nSharding Layout:\")\n",
    "    \n",
    "    # JAX provides a handy utility to visualize the sharding\n",
    "    jax.debug.visualize_array_sharding(sharded_data)\n",
    "\n",
    "    print(\"\\nSharding Layout details:\")\n",
    "\n",
    "    # We can get detailed information for each shard\n",
    "    for i, shard in enumerate(sharded_data.global_shards):\n",
    "        print(f\"\\nShard no: {i:>5}\")\n",
    "        print(f\"Device: {str(shard.device):>32}\")\n",
    "        print(f\"Data shape: {str(shard.data.shape):>8}\")\n",
    "        print(f\"Data slices: {str(shard.index):>22}\\n\")\n",
    "        print(\"=\"*75)\n",
    "        print(\"\")\n",
    "        \n",
    "# Get the device array\n",
    "num_devices = len(jax.local_devices())\n",
    "devices     = mesh_utils.create_device_mesh((num_devices,))\n",
    "\n",
    "# Create a mesh from the device array\n",
    "mesh = Mesh(devices, axis_names=(\"ax\"))\n",
    "\n",
    "# Define sharding with a partiton spec\n",
    "sharding = NamedSharding(mesh, P(\"ax\"))\n",
    "\n",
    "print(f\"Number of logical devices: {len(devices)}\")\n",
    "print(f\"Shape of device array    : {devices.shape}\")\n",
    "print(f\"\\nMesh     : {mesh}\")\n",
    "print(f\"Sharding : {sharding}\\n\\n\")"
   ]
  },
  {
   "cell_type": "code",
   "execution_count": null,
   "id": "3478dd25",
   "metadata": {},
   "outputs": [],
   "source": [
    "import os, sys\n",
    "sys.path.append(os.getcwd()+'/../')\n",
    "from CHIMERA.data import load_data_gw, load_data_injection\n",
    "\n",
    "dir_data = \"/home/mt/softwares/CHIMERA_private/data/\"\n",
    "file_inj = dir_data+\"O5_v3/injections_20M_sources_PLP_v9s2_H1-L1-Virgo-KAGRA-LIGOI_IMRPhenomHM_snr_th-20_dutyfac-1_fmin-10_noiseless.h5\"\n",
    "\n",
    "file_ev = \"/home/mt/university/projects/gw_projects/full_spectral_sirens/catalog_generation/testSNR20/O5_snrthr20_MVN+MaskMassDLAngles+Resampling2bis_inv_detJ_m1m2_to_Mceta.h5\"\n",
    "#file_ev  = dir_data+\"O5_v3/O5_samples_from_fisher_allpars_snrth-25_ieth-0.05_DelOmTh-inf.h5\"\n",
    "\n",
    "inj_data, inj_prior = load_data_injection(file_inj, )\n",
    "events_pe = load_data_gw(file_ev)\n",
    "\n",
    "pe_priors = events_pe['dL']**2\n"
   ]
  },
  {
   "cell_type": "code",
   "execution_count": null,
   "id": "b798a04a",
   "metadata": {
    "scrolled": false
   },
   "outputs": [],
   "source": [
    "# Dummy data for demonstration purpose\n",
    "data = events_pe['dL']\n",
    "\n",
    "# Shard the data\n",
    "sharded_data = jax.device_put(data, sharding)\n",
    "\n",
    "print(f\"Data  shape: {data.shape}\")\n",
    "print(f\"Shard shape: {sharding.shard_shape(data.shape)}\")        \n",
    "get_sharding_details(sharded_data)"
   ]
  },
  {
   "cell_type": "code",
   "execution_count": null,
   "id": "9df5c418",
   "metadata": {},
   "outputs": [],
   "source": [
    "from CHIMERA.cosmo import flrw\n",
    "\n",
    "cosmo_model = flrw()\n",
    "cosmo_model = cosmo_model.update_params({'H0':jnp.linspace(40,100,25)})\n",
    "z1 = cosmo_model.z_from_dGW(sharded_data)"
   ]
  },
  {
   "cell_type": "code",
   "execution_count": null,
   "id": "b61cd3d5",
   "metadata": {},
   "outputs": [],
   "source": [
    "m1d = events_pe['m1det']/(1+z1)\n",
    "m2d = events_pe['m2det']/(1+z1)"
   ]
  },
  {
   "cell_type": "code",
   "execution_count": null,
   "id": "f2c04432",
   "metadata": {},
   "outputs": [],
   "source": []
  }
 ],
 "metadata": {
  "@webio": {
   "lastCommId": null,
   "lastKernelId": null
  },
  "kernelspec": {
   "display_name": "chimeragw-stable",
   "language": "python",
   "name": "chimeragw-stable"
  },
  "language_info": {
   "codemirror_mode": {
    "name": "ipython",
    "version": 3
   },
   "file_extension": ".py",
   "mimetype": "text/x-python",
   "name": "python",
   "nbconvert_exporter": "python",
   "pygments_lexer": "ipython3",
   "version": "3.11.10"
  }
 },
 "nbformat": 4,
 "nbformat_minor": 5
}
