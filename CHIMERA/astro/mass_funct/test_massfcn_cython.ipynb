{
 "cells": [
  {
   "cell_type": "markdown",
   "metadata": {},
   "source": [
    "# Cosmology"
   ]
  },
  {
   "cell_type": "code",
   "execution_count": 18,
   "metadata": {},
   "outputs": [],
   "source": [
    "from test_cosmo import cosmo\n",
    "import numpy as np\n",
    "import matplotlib.pyplot as plt\n",
    "\n",
    "\n",
    "z = np.linspace(0,1,1000)\n",
    "args = (0.3, 0.7)\n",
    "funct = np.vectorize(cosmo.flcdm_inv_efunc_norel)"
   ]
  },
  {
   "cell_type": "code",
   "execution_count": 3,
   "metadata": {},
   "outputs": [
    {
     "name": "stdout",
     "output_type": "stream",
     "text": [
      "CPU times: user 392 µs, sys: 260 µs, total: 652 µs\n",
      "Wall time: 686 µs\n"
     ]
    }
   ],
   "source": [
    "%%time\n",
    "x = funct(z, *args)"
   ]
  },
  {
   "cell_type": "code",
   "execution_count": 30,
   "metadata": {},
   "outputs": [
    {
     "name": "stdout",
     "output_type": "stream",
     "text": [
      "5000\n"
     ]
    }
   ],
   "source": [
    "ms = np.logspace( \n",
    "     np.log10(lambdaBBHmass['ml']-lambdaBBHmass['ml']/20), \n",
    "     np.log10(lambdaBBHmass['mh']+lambdaBBHmass['mh']/20), \n",
    "     5000 )\n",
    "     \n",
    "M1S, M2S = np.meshgrid(ms, ms, indexing='ij')\n",
    "print(len(M1S))"
   ]
  },
  {
   "cell_type": "code",
   "execution_count": 27,
   "metadata": {},
   "outputs": [
    {
     "name": "stdout",
     "output_type": "stream",
     "text": [
      "CPU times: user 1.01 s, sys: 332 ms, total: 1.35 s\n",
      "Wall time: 1.45 s\n"
     ]
    },
    {
     "data": {
      "text/plain": [
       "array([[-inf, -inf, -inf, ..., -inf, -inf, -inf],\n",
       "       [-inf, -inf, -inf, ..., -inf, -inf, -inf],\n",
       "       [-inf, -inf, -inf, ..., -inf, -inf, -inf],\n",
       "       ...,\n",
       "       [-inf, -inf, -inf, ..., -inf, -inf, -inf],\n",
       "       [-inf, -inf, -inf, ..., -inf, -inf, -inf],\n",
       "       [-inf, -inf, -inf, ..., -inf, -inf, -inf]])"
      ]
     },
     "execution_count": 27,
     "metadata": {},
     "output_type": "execute_result"
    }
   ],
   "source": [
    "%%time\n",
    "mf.logpdf([M1S,M2S], lambdaBBHmass.values())"
   ]
  },
  {
   "cell_type": "code",
   "execution_count": 28,
   "metadata": {},
   "outputs": [
    {
     "data": {
      "text/plain": [
       "array([-7.57195497])"
      ]
     },
     "execution_count": 28,
     "metadata": {},
     "output_type": "execute_result"
    }
   ],
   "source": [
    "mf.logpdf([np.array([30.]),\n",
    "           np.array([20.])],\n",
    "           lambdaBBHmass.values())"
   ]
  },
  {
   "cell_type": "markdown",
   "metadata": {},
   "source": [
    "# Broken PL"
   ]
  },
  {
   "cell_type": "code",
   "execution_count": 1,
   "metadata": {},
   "outputs": [
    {
     "name": "stdout",
     "output_type": "stream",
     "text": [
      "Broken power law mass function base values: {'alpha1': 1.6, 'alpha2': 5.6, 'beta': 1.4, 'deltam': 4.8, 'ml': 4, 'mh': 87, 'b': 0.43}\n"
     ]
    }
   ],
   "source": [
    "import sys\n",
    "import matplotlib.pyplot as plt\n",
    "sys.path.append(\"../../../DarkSirensStatV1\")\n",
    "sys.path.append(\"../../DarkSirensStatV1\")\n",
    "import DarkSirensStatV1 as DS\n",
    "import MGCosmoPop\n",
    "from MGCosmoPop.population.astro import astroMassDistribution\n",
    "import numpy as np\n",
    "mf = astroMassDistribution.BrokenPowerLawMass()\n",
    "lambdaBBHmass = {'alpha1': 1.6, 'alpha2': 5.6, 'beta': 1.4, 'deltam': 4.8, 'ml': 4, 'mh': 87, 'b': 0.43}"
   ]
  },
  {
   "cell_type": "code",
   "execution_count": 2,
   "metadata": {},
   "outputs": [],
   "source": [
    "from test_mass import mass\n",
    "import numpy as np\n",
    "import importlib\n",
    "importlib.reload(mass)\n",
    "m2 = np.linspace(1,100,10**7)\n",
    "m1 = np.linspace(2,101,10**7)\n",
    "\n",
    "# m2[6] = np.nan\n",
    "\n",
    "ml, mh = 0,9999\n",
    "alpha1, alpha2 = 1,1\n",
    "dm,b=3,10\n",
    "\n",
    "ml, mh = lambdaBBHmass[\"ml\"],lambdaBBHmass[\"mh\"]\n",
    "alpha1, alpha2 = lambdaBBHmass[\"alpha1\"],lambdaBBHmass[\"alpha2\"]\n",
    "dm,b=lambdaBBHmass[\"deltam\"],lambdaBBHmass[\"b\"]\n",
    "beta = lambdaBBHmass[\"beta\"]"
   ]
  },
  {
   "cell_type": "markdown",
   "metadata": {},
   "source": [
    "## _logpdfm1"
   ]
  },
  {
   "cell_type": "code",
   "execution_count": 5,
   "metadata": {},
   "outputs": [
    {
     "name": "stdout",
     "output_type": "stream",
     "text": [
      "318 ms ± 30 ms per loop (mean ± std. dev. of 7 runs, 1 loop each)\n"
     ]
    }
   ],
   "source": [
    "%%timeit\n",
    "mgcp = mf._logpdfm1(m1, alpha1, alpha2, dm, ml,mh,b)"
   ]
  },
  {
   "cell_type": "code",
   "execution_count": 6,
   "metadata": {},
   "outputs": [
    {
     "name": "stdout",
     "output_type": "stream",
     "text": [
      "145 ms ± 1.31 ms per loop (mean ± std. dev. of 7 runs, 10 loops each)\n"
     ]
    }
   ],
   "source": [
    "%%timeit\n",
    "my = mass._logpdfm1(m1, ml,mh,alpha1,alpha2,dm,b)"
   ]
  },
  {
   "cell_type": "code",
   "execution_count": 7,
   "metadata": {},
   "outputs": [
    {
     "name": "stdout",
     "output_type": "stream",
     "text": [
      "Finite [-5.92593751e+05 -2.66667858e+05 -1.72044212e+05 ... -1.02846867e+01\n",
      " -1.02846873e+01 -1.02846879e+01]\n",
      "N Finite 8383837\n",
      "mbreak 39.69\n",
      "\n",
      "Finite [-5.92593751e+05 -2.66667858e+05 -1.72044212e+05 ... -1.02846867e+01\n",
      " -1.02846873e+01 -1.02846879e+01]\n",
      "N Finite 8383837\n",
      "mbreak 39.69\n",
      "\n",
      "Equal?  True\n"
     ]
    }
   ],
   "source": [
    "mgcp = mf._logpdfm1(m1, alpha1, alpha2, dm, ml,mh,b)\n",
    "print(\"Finite\", mgcp[np.isfinite(mgcp)])\n",
    "print(\"N Finite\", np.isfinite(mgcp).sum())\n",
    "print(\"mbreak\", mf._get_Mbreak(ml,mh,b))\n",
    "\n",
    "my = mass._logpdfm1(m1, ml,mh,alpha1,alpha2,dm,b)\n",
    "print(\"\\nFinite\", my[np.isfinite(my)])\n",
    "print(\"N Finite\", np.isfinite(my).sum())\n",
    "print(\"mbreak\", mass._mbreak(ml,mh,b))\n",
    "\n",
    "print(\"\\nEqual? \", np.isclose(mgcp,my).all())"
   ]
  },
  {
   "cell_type": "code",
   "execution_count": 12,
   "metadata": {},
   "outputs": [
    {
     "name": "stderr",
     "output_type": "stream",
     "text": [
      "/tmp/ipykernel_9141/1845948628.py:1: RuntimeWarning: invalid value encountered in subtract\n",
      "  plt.plot(m1, my-mgcp, c='k')\n"
     ]
    },
    {
     "data": {
      "text/plain": [
       "[<matplotlib.lines.Line2D at 0x7f0122fe9430>]"
      ]
     },
     "execution_count": 12,
     "metadata": {},
     "output_type": "execute_result"
    },
    {
     "data": {
      "image/png": "[encoded data removed]",
      "text/plain": [
       "<Figure size 432x288 with 1 Axes>"
      ]
     },
     "metadata": {
      "needs_background": "light"
     },
     "output_type": "display_data"
    }
   ],
   "source": [
    "plt.plot(m1, my-mgcp, c='k')"
   ]
  },
  {
   "cell_type": "markdown",
   "metadata": {},
   "source": [
    "## _logpdfm2"
   ]
  },
  {
   "cell_type": "code",
   "execution_count": 10,
   "metadata": {},
   "outputs": [
    {
     "name": "stdout",
     "output_type": "stream",
     "text": [
      "173 ms ± 2.49 ms per loop (mean ± std. dev. of 7 runs, 10 loops each)\n"
     ]
    }
   ],
   "source": [
    "%%timeit\n",
    "mgcp = mf._logpdfm2(m1, beta, dm, ml)"
   ]
  },
  {
   "cell_type": "code",
   "execution_count": 5,
   "metadata": {},
   "outputs": [
    {
     "name": "stdout",
     "output_type": "stream",
     "text": [
      "95.2 ms ± 4.85 ms per loop (mean ± std. dev. of 7 runs, 10 loops each)\n"
     ]
    }
   ],
   "source": [
    "%%timeit\n",
    "my = mass._logpdfm2(m1, ml, beta, dm)"
   ]
  },
  {
   "cell_type": "code",
   "execution_count": 7,
   "metadata": {},
   "outputs": [
    {
     "name": "stdout",
     "output_type": "stream",
     "text": [
      "Finite [-6.66663659e+05 -2.80698785e+05 -1.77774819e+05 ...  6.44723798e+00\n",
      "  6.44723812e+00  6.44723826e+00]\n",
      "N Finite 9696969\n",
      "mbreak 39.69\n",
      "\n",
      "Finite [-6.66663659e+05 -2.80698785e+05 -1.77774819e+05 ...  6.44723798e+00\n",
      "  6.44723812e+00  6.44723826e+00]\n",
      "N Finite 9696969\n",
      "mbreak 39.69\n",
      "\n",
      "Equal?  True\n"
     ]
    }
   ],
   "source": [
    "mgcp = mf._logpdfm2(m2, beta, dm, ml)\n",
    "print(\"Finite\", mgcp[np.isfinite(mgcp)])\n",
    "print(\"N Finite\", np.isfinite(mgcp).sum())\n",
    "print(\"mbreak\", mf._get_Mbreak(ml,mh,b))\n",
    "\n",
    "my = mass._logpdfm2(m2, ml, beta, dm)\n",
    "print(\"\\nFinite\", my[np.isfinite(my)])\n",
    "print(\"N Finite\", np.isfinite(my).sum())\n",
    "print(\"mbreak\", mass._mbreak(ml,mh,b))\n",
    "\n",
    "print(\"\\nEqual? \", np.isclose(mgcp,my).all())"
   ]
  },
  {
   "cell_type": "code",
   "execution_count": 8,
   "metadata": {},
   "outputs": [
    {
     "name": "stderr",
     "output_type": "stream",
     "text": [
      "/tmp/ipykernel_11424/1397392996.py:1: RuntimeWarning: invalid value encountered in subtract\n",
      "  plt.plot(m2, (my-mgcp)/mgcp)\n"
     ]
    },
    {
     "data": {
      "text/plain": [
       "[<matplotlib.lines.Line2D at 0x7f9fbc43b8e0>]"
      ]
     },
     "execution_count": 8,
     "metadata": {},
     "output_type": "execute_result"
    },
    {
     "data": {
      "image/png": "[encoded data removed]",
      "text/plain": [
       "<Figure size 432x288 with 1 Axes>"
      ]
     },
     "metadata": {
      "needs_background": "light"
     },
     "output_type": "display_data"
    }
   ],
   "source": [
    "plt.plot(m2, (my-mgcp)/mgcp)\n",
    "# plt.xlim(5.2,5.5)"
   ]
  },
  {
   "cell_type": "markdown",
   "metadata": {},
   "source": [
    "## _logC"
   ]
  },
  {
   "cell_type": "code",
   "execution_count": 3,
   "metadata": {},
   "outputs": [
    {
     "name": "stdout",
     "output_type": "stream",
     "text": [
      "202 ms ± 8 ms per loop (mean ± std. dev. of 7 runs, 1 loop each)\n"
     ]
    }
   ],
   "source": [
    "%%timeit\n",
    "mgcp = mf._logC(m1, beta, dm, ml)"
   ]
  },
  {
   "cell_type": "code",
   "execution_count": 4,
   "metadata": {},
   "outputs": [
    {
     "name": "stdout",
     "output_type": "stream",
     "text": [
      "131 ms ± 2.84 ms per loop (mean ± std. dev. of 7 runs, 10 loops each)\n"
     ]
    }
   ],
   "source": [
    "%%timeit\n",
    "my = mass._logC(m1, ml, beta, dm)"
   ]
  },
  {
   "cell_type": "code",
   "execution_count": 6,
   "metadata": {},
   "outputs": [
    {
     "name": "stdout",
     "output_type": "stream",
     "text": [
      "Finite [182.27599058 182.27599058 182.27599058 ... -10.17554309 -10.17554333\n",
      " -10.17554356]\n",
      "N Finite 10000000\n",
      "\n",
      "Finite [182.27599058 182.27599058 182.27599058 ... -10.17554309 -10.17554333\n",
      " -10.17554356]\n",
      "N Finite 10000000\n",
      "\n",
      "Equal?  True\n"
     ]
    }
   ],
   "source": [
    "mgcp = mf._logC(m2, beta, dm, ml)\n",
    "print(\"Finite\", mgcp[np.isfinite(mgcp)])\n",
    "print(\"N Finite\", np.isfinite(mgcp).sum())\n",
    "\n",
    "\n",
    "my = mass._logC(m2, ml, beta, dm)\n",
    "print(\"\\nFinite\", my[np.isfinite(my)])\n",
    "print(\"N Finite\", np.isfinite(my).sum())\n",
    "\n",
    "print(\"\\nEqual? \", np.isclose(mgcp,my).all())"
   ]
  },
  {
   "cell_type": "code",
   "execution_count": 8,
   "metadata": {},
   "outputs": [
    {
     "data": {
      "text/plain": [
       "[<matplotlib.lines.Line2D at 0x7f6824d16880>]"
      ]
     },
     "execution_count": 8,
     "metadata": {},
     "output_type": "execute_result"
    },
    {
     "data": {
      "image/png": "[encoded data removed]",
      "text/plain": [
       "<Figure size 432x288 with 1 Axes>"
      ]
     },
     "metadata": {
      "needs_background": "light"
     },
     "output_type": "display_data"
    }
   ],
   "source": [
    "plt.plot(m2, (my-mgcp)/mgcp)"
   ]
  },
  {
   "cell_type": "markdown",
   "metadata": {},
   "source": [
    "## _logN"
   ]
  },
  {
   "cell_type": "code",
   "execution_count": 10,
   "metadata": {},
   "outputs": [
    {
     "name": "stdout",
     "output_type": "stream",
     "text": [
      "195 µs ± 6.49 µs per loop (mean ± std. dev. of 7 runs, 1,000 loops each)\n"
     ]
    }
   ],
   "source": [
    "%%timeit\n",
    "mgcp = mf._logNorm(alpha1, alpha2, dm, ml, mh, b)"
   ]
  },
  {
   "cell_type": "code",
   "execution_count": 3,
   "metadata": {},
   "outputs": [
    {
     "name": "stdout",
     "output_type": "stream",
     "text": [
      "127 µs ± 2.1 µs per loop (mean ± std. dev. of 7 runs, 10,000 loops each)\n"
     ]
    }
   ],
   "source": [
    "%%timeit\n",
    "my = mass._logN(ml, mh, alpha1, alpha2, dm, b)"
   ]
  },
  {
   "cell_type": "code",
   "execution_count": 5,
   "metadata": {},
   "outputs": [
    {
     "name": "stdout",
     "output_type": "stream",
     "text": [
      "Finite [-0.93786414]\n",
      "N Finite 1\n",
      "\n",
      "Finite [-0.93785802]\n",
      "N Finite 1\n",
      "\n",
      "Equal?  True\n",
      "DIFF PERC:  -6.5274646690328406e-06\n"
     ]
    }
   ],
   "source": [
    "mgcp = mf._logNorm(alpha1, alpha2, dm, ml, mh, b)\n",
    "print(\"Finite\", mgcp[np.isfinite(mgcp)])\n",
    "print(\"N Finite\", np.isfinite(mgcp).sum())\n",
    "\n",
    "\n",
    "my = mass._logN(ml, mh, alpha1, alpha2, dm, b)\n",
    "print(\"\\nFinite\", my[np.isfinite(my)])\n",
    "print(\"N Finite\", np.isfinite(my).sum())\n",
    "\n",
    "print(\"\\nEqual? \", np.isclose(mgcp,my).all())\n",
    "print(\"DIFF PERC: \", (my-mgcp)/mgcp)"
   ]
  },
  {
   "cell_type": "markdown",
   "metadata": {},
   "source": [
    "## logpdf"
   ]
  },
  {
   "cell_type": "code",
   "execution_count": 3,
   "metadata": {},
   "outputs": [
    {
     "name": "stdout",
     "output_type": "stream",
     "text": [
      "718 ms ± 31.2 ms per loop (mean ± std. dev. of 7 runs, 1 loop each)\n"
     ]
    }
   ],
   "source": [
    "%%timeit\n",
    "mgcp = mf.logpdf([m1,m2], [alpha1, alpha2, beta, dm, ml, mh, b])"
   ]
  },
  {
   "cell_type": "code",
   "execution_count": 4,
   "metadata": {},
   "outputs": [
    {
     "name": "stdout",
     "output_type": "stream",
     "text": [
      "429 ms ± 9.42 ms per loop (mean ± std. dev. of 7 runs, 1 loop each)\n"
     ]
    }
   ],
   "source": [
    "%%timeit\n",
    "my = mass.logpdf_BPL(m1,m2,ml,mh,alpha1,alpha2,beta,dm,b)"
   ]
  },
  {
   "cell_type": "code",
   "execution_count": 13,
   "metadata": {},
   "outputs": [
    {
     "name": "stdout",
     "output_type": "stream",
     "text": [
      "Finite [-6.66665615e+05 -2.80700741e+05 -1.77776775e+05 ... -1.29514943e+01\n",
      " -1.29514951e+01 -1.29514958e+01]\n",
      "N Finite 8282827\n",
      "\n",
      "Finite [-6.66665615e+05 -2.80700741e+05 -1.77776775e+05 ... -1.29515132e+01\n",
      " -1.29515139e+01 -1.29515147e+01]\n",
      "N Finite 8282827\n",
      "\n",
      "Equal?  True\n",
      "Equal finite?  True\n"
     ]
    }
   ],
   "source": [
    "mgcp        = mf.logpdf([m1,m2], [alpha1, alpha2, beta, dm, ml, mh, b])\n",
    "finite_mgcp = np.isfinite(mgcp)\n",
    "print(\"Finite\", mgcp[np.isfinite(mgcp)])\n",
    "print(\"N Finite\", np.isfinite(mgcp).sum())\n",
    "\n",
    "\n",
    "my          = mass.logpdf_BPL(m1,m2,ml,mh,alpha1,alpha2,beta,dm,b)\n",
    "finite_my   = np.isfinite(my)\n",
    "\n",
    "print(\"\\nFinite\", my[np.isfinite(my)])\n",
    "print(\"N Finite\", np.isfinite(my).sum())\n",
    "\n",
    "diff_perc_finite = (my[finite_mgcp]-mgcp[finite_mgcp])/mgcp[finite_mgcp]\n",
    "print(\"\\nEqual? \", np.isclose(mgcp,my, rtol=1e-3).all())\n",
    "print(\"Equal finite? \", np.isclose(finite_mgcp,finite_my).all())\n",
    "# print(\"DIFF PERC: \", (my-mgcp)/mgcp)"
   ]
  },
  {
   "cell_type": "code",
   "execution_count": 14,
   "metadata": {},
   "outputs": [
    {
     "data": {
      "text/plain": [
       "[<matplotlib.lines.Line2D at 0x7ff3b3482370>]"
      ]
     },
     "execution_count": 14,
     "metadata": {},
     "output_type": "execute_result"
    },
    {
     "data": {
      "image/png": "[encoded data removed]",
      "text/plain": [
       "<Figure size 432x288 with 1 Axes>"
      ]
     },
     "metadata": {
      "needs_background": "light"
     },
     "output_type": "display_data"
    }
   ],
   "source": [
    "# plt.plot(m1[finite_mgcp],my[finite_mgcp])\n",
    "# plt.plot(m1[finite_mgcp],mgcp[finite_mgcp])\n",
    "plt.plot(m1[finite_mgcp],diff_perc_finite)\n",
    "\n",
    "# plt.ylim(-20,0)"
   ]
  },
  {
   "cell_type": "markdown",
   "metadata": {},
   "source": [
    "# Truncated PL"
   ]
  },
  {
   "cell_type": "code",
   "execution_count": 1,
   "metadata": {},
   "outputs": [],
   "source": [
    "import sys\n",
    "import matplotlib.pyplot as plt\n",
    "sys.path.append(\"../../../DarkSirensStatV1\")\n",
    "sys.path.append(\"../../DarkSirensStatV1\")\n",
    "import DarkSirensStatV1 as DS\n",
    "import MGCosmoPop\n",
    "from MGCosmoPop.population.astro import astroMassDistribution\n",
    "import numpy as np\n",
    "mf = astroMassDistribution.TruncPowerLawMass()\n",
    "lambdaBBHmass = {'alpha': 0.75, 'beta': 0.0, 'ml': 4.0, 'mh': 78.5}\n",
    "\n",
    "from test_mass import mass\n",
    "import numpy as np\n",
    "import importlib\n",
    "importlib.reload(mass)\n",
    "m2 = np.linspace(1,100,10**7)\n",
    "m1 = np.linspace(2,101,10**7)\n",
    "\n",
    "ml, mh = lambdaBBHmass[\"ml\"],lambdaBBHmass[\"mh\"]\n",
    "alpha = lambdaBBHmass[\"alpha\"]\n",
    "beta = lambdaBBHmass[\"beta\"]"
   ]
  },
  {
   "cell_type": "code",
   "execution_count": 2,
   "metadata": {},
   "outputs": [
    {
     "name": "stderr",
     "output_type": "stream",
     "text": [
      "/home/debian/software/MGCosmoPopPrivate/MGCosmoPop/utils.py:15: RuntimeWarning: invalid value encountered in log1p\n",
      "  return x + np.log1p(-np.exp(y-x))\n"
     ]
    },
    {
     "name": "stdout",
     "output_type": "stream",
     "text": [
      "258 ms ± 90.9 ms per loop (mean ± std. dev. of 7 runs, 1 loop each)\n"
     ]
    }
   ],
   "source": [
    "%%timeit\n",
    "mgcp = mf._logC(m1,beta,ml)"
   ]
  },
  {
   "cell_type": "code",
   "execution_count": 3,
   "metadata": {},
   "outputs": [
    {
     "name": "stdout",
     "output_type": "stream",
     "text": [
      "330 ms ± 26.8 ms per loop (mean ± std. dev. of 7 runs, 1 loop each)\n"
     ]
    }
   ],
   "source": [
    "%%timeit\n",
    "my = mass._logC_TPL(m1,ml,beta)"
   ]
  },
  {
   "cell_type": "code",
   "execution_count": 4,
   "metadata": {},
   "outputs": [
    {
     "name": "stdout",
     "output_type": "stream",
     "text": [
      "4.9 µs ± 137 ns per loop (mean ± std. dev. of 7 runs, 100,000 loops each)\n"
     ]
    }
   ],
   "source": [
    "%%timeit\n",
    "mgcp = mf._logNorm(alpha,ml,mh)"
   ]
  },
  {
   "cell_type": "code",
   "execution_count": 5,
   "metadata": {},
   "outputs": [
    {
     "name": "stdout",
     "output_type": "stream",
     "text": [
      "168 ns ± 9.69 ns per loop (mean ± std. dev. of 7 runs, 10,000,000 loops each)\n"
     ]
    }
   ],
   "source": [
    "%%timeit\n",
    "mgcp = mass._logN_TPL(ml,mh,alpha)"
   ]
  },
  {
   "cell_type": "markdown",
   "metadata": {},
   "source": [
    "## logpdf"
   ]
  },
  {
   "cell_type": "code",
   "execution_count": 6,
   "metadata": {},
   "outputs": [
    {
     "name": "stdout",
     "output_type": "stream",
     "text": [
      "508 ms ± 124 ms per loop (mean ± std. dev. of 7 runs, 1 loop each)\n"
     ]
    }
   ],
   "source": [
    "%%timeit\n",
    "mgcp = mf.logpdf([m1,m2], [alpha, beta, ml, mh])"
   ]
  },
  {
   "cell_type": "code",
   "execution_count": 7,
   "metadata": {},
   "outputs": [
    {
     "name": "stdout",
     "output_type": "stream",
     "text": [
      "460 ms ± 9.13 ms per loop (mean ± std. dev. of 7 runs, 1 loop each)\n"
     ]
    }
   ],
   "source": [
    "%%timeit\n",
    "my = mass.logpdf_TPL(m1,m2, ml, mh, alpha, beta)"
   ]
  },
  {
   "cell_type": "code",
   "execution_count": 8,
   "metadata": {},
   "outputs": [
    {
     "name": "stdout",
     "output_type": "stream",
     "text": [
      "Finite [-3.03958206 -3.03959344 -3.03960483 ... -9.41561777 -9.41561799\n",
      " -9.41561822]\n",
      "N Finite 7424241\n",
      "\n",
      "Finite [-3.03958206 -3.03959344 -3.03960483 ... -9.41561777 -9.41561799\n",
      " -9.41561822]\n",
      "N Finite 7424241\n",
      "\n",
      "Equal?  True\n",
      "Equal finite?  True\n"
     ]
    }
   ],
   "source": [
    "mgcp = mf.logpdf([m1,m2], [alpha, beta, ml, mh])\n",
    "finite_mgcp = np.isfinite(mgcp)\n",
    "print(\"Finite\", mgcp[np.isfinite(mgcp)])\n",
    "print(\"N Finite\", np.isfinite(mgcp).sum())\n",
    "\n",
    "\n",
    "my = mass.logpdf_TPL(m1,m2, ml, mh, alpha, beta)\n",
    "finite_my   = np.isfinite(my)\n",
    "\n",
    "print(\"\\nFinite\", my[np.isfinite(my)])\n",
    "print(\"N Finite\", np.isfinite(my).sum())\n",
    "\n",
    "diff_perc_finite = (my[finite_mgcp]-mgcp[finite_mgcp])/mgcp[finite_mgcp]\n",
    "print(\"\\nEqual? \", np.isclose(mgcp,my, rtol=1e-3).all())\n",
    "print(\"Equal finite? \", np.isclose(finite_mgcp,finite_my).all())\n",
    "# print(\"DIFF PERC: \", (my-mgcp)/mgcp)"
   ]
  },
  {
   "cell_type": "code",
   "execution_count": 9,
   "metadata": {},
   "outputs": [
    {
     "data": {
      "text/plain": [
       "[<matplotlib.lines.Line2D at 0x7fd23d588430>]"
      ]
     },
     "execution_count": 9,
     "metadata": {},
     "output_type": "execute_result"
    },
    {
     "data": {
      "image/png": "[encoded data removed]",
      "text/plain": [
       "<Figure size 432x288 with 1 Axes>"
      ]
     },
     "metadata": {
      "needs_background": "light"
     },
     "output_type": "display_data"
    }
   ],
   "source": [
    "# plt.plot(m1[finite_mgcp],my[finite_mgcp])\n",
    "# plt.plot(m1[finite_mgcp],mgcp[finite_mgcp])\n",
    "plt.plot(m1[finite_mgcp],diff_perc_finite)\n",
    "\n",
    "# plt.ylim(-20,0)"
   ]
  },
  {
   "cell_type": "code",
   "execution_count": null,
   "metadata": {},
   "outputs": [],
   "source": []
  },
  {
   "cell_type": "markdown",
   "metadata": {},
   "source": [
    "# PL Peak"
   ]
  },
  {
   "cell_type": "code",
   "execution_count": 1,
   "metadata": {},
   "outputs": [
    {
     "name": "stdout",
     "output_type": "stream",
     "text": [
      " Power law + peak mass function base values: {'lambdaPeak': 0.03, 'beta': 0.81, 'alpha': 3.78, 'deltam': 4.8, 'ml': 5.0, 'mh': 112.0, 'muMass': 32.0, 'sigmaMass': 3.88}\n"
     ]
    }
   ],
   "source": [
    "import sys\n",
    "import matplotlib.pyplot as plt\n",
    "sys.path.append(\"../../../DarkSirensStatV1\")\n",
    "sys.path.append(\"../../DarkSirensStatV1\")\n",
    "import DarkSirensStatV1 as DS\n",
    "import MGCosmoPop\n",
    "from MGCosmoPop.population.astro import astroMassDistribution\n",
    "import numpy as np\n",
    "mf = astroMassDistribution.PowerLawPlusPeakMass()\n",
    "\n",
    "from test_mass import mass\n",
    "import numpy as np\n",
    "import importlib\n",
    "importlib.reload(mass)\n",
    "m2 = np.linspace(1,100,10**7)\n",
    "m1 = np.linspace(2,101,10**7)\n",
    "\n",
    "lambdaBBHmass = mass.get_base_PLP()\n",
    "\n",
    "ml, mh = lambdaBBHmass[\"ml\"],lambdaBBHmass[\"mh\"]\n",
    "alpha, beta = lambdaBBHmass[\"alpha\"], lambdaBBHmass[\"beta\"]\n",
    "dm = lambdaBBHmass[\"deltam\"]\n",
    "lambdaPeak = lambdaBBHmass[\"beta\"]\n",
    "mu, sigma = lambdaBBHmass[\"muMass\"], lambdaBBHmass[\"sigmaMass\"]"
   ]
  },
  {
   "cell_type": "markdown",
   "metadata": {},
   "source": [
    "## _logpdfm1_PLP"
   ]
  },
  {
   "cell_type": "code",
   "execution_count": 5,
   "metadata": {},
   "outputs": [
    {
     "name": "stdout",
     "output_type": "stream",
     "text": [
      "486 ms ± 58.2 ms per loop (mean ± std. dev. of 7 runs, 1 loop each)\n"
     ]
    }
   ],
   "source": [
    "%%timeit\n",
    "mgcp = mf._logpdfm1(m1, lambdaPeak, alpha, dm, ml, mh, mu, sigma)"
   ]
  },
  {
   "cell_type": "code",
   "execution_count": 6,
   "metadata": {},
   "outputs": [
    {
     "name": "stdout",
     "output_type": "stream",
     "text": [
      "431 ms ± 41.5 ms per loop (mean ± std. dev. of 7 runs, 1 loop each)\n"
     ]
    }
   ],
   "source": [
    "%%timeit\n",
    "my = mass._logpdfm1_PLP(m1, ml, mh, alpha, dm, lambdaPeak, mu, sigma)"
   ]
  },
  {
   "cell_type": "code",
   "execution_count": 7,
   "metadata": {},
   "outputs": [
    {
     "name": "stdout",
     "output_type": "stream",
     "text": [
      "Finite [-6.66667848e+05 -2.80702974e+05 -1.77779008e+05 ... -1.36090214e+01\n",
      " -1.36090217e+01 -1.36090221e+01]\n",
      "N Finite 9696969\n",
      "\n",
      "Finite [-6.66667848e+05 -2.80702974e+05 -1.77779008e+05 ... -1.36090214e+01\n",
      " -1.36090217e+01 -1.36090221e+01]\n",
      "N Finite 9696969\n",
      "\n",
      "Equal?  True\n",
      "Equal finite?  True\n"
     ]
    }
   ],
   "source": [
    "mgcp = mf._logpdfm1(m1, lambdaPeak, alpha, dm, ml, mh, mu, sigma)\n",
    "finite_mgcp = np.isfinite(mgcp)\n",
    "print(\"Finite\", mgcp[np.isfinite(mgcp)])\n",
    "print(\"N Finite\", np.isfinite(mgcp).sum())\n",
    "\n",
    "\n",
    "my = mass._logpdfm1_PLP(m1, ml, mh, alpha, dm, lambdaPeak, mu, sigma)\n",
    "finite_my   = np.isfinite(my)\n",
    "\n",
    "print(\"\\nFinite\", my[np.isfinite(my)])\n",
    "print(\"N Finite\", np.isfinite(my).sum())\n",
    "\n",
    "diff_perc_finite = (my[finite_mgcp]-mgcp[finite_mgcp])/mgcp[finite_mgcp]\n",
    "print(\"\\nEqual? \", np.isclose(mgcp,my, rtol=1e-3).all())\n",
    "print(\"Equal finite? \", np.isclose(finite_mgcp,finite_my).all())\n",
    "# print(\"DIFF PERC: \", (my-mgcp)/mgcp)"
   ]
  },
  {
   "cell_type": "code",
   "execution_count": 7,
   "metadata": {},
   "outputs": [
    {
     "data": {
      "text/plain": [
       "[<matplotlib.lines.Line2D at 0x7f13cce3bdc0>]"
      ]
     },
     "execution_count": 7,
     "metadata": {},
     "output_type": "execute_result"
    },
    {
     "data": {
      "image/png": "[encoded data removed]",
      "text/plain": [
       "<Figure size 432x288 with 1 Axes>"
      ]
     },
     "metadata": {
      "needs_background": "light"
     },
     "output_type": "display_data"
    }
   ],
   "source": [
    "# plt.plot(m1[finite_mgcp],my[finite_mgcp])\n",
    "# plt.plot(m1[finite_mgcp],mgcp[finite_mgcp])\n",
    "plt.plot(m1[finite_mgcp],diff_perc_finite)\n",
    "\n",
    "# plt.ylim(-20,0)"
   ]
  },
  {
   "cell_type": "markdown",
   "metadata": {},
   "source": [
    "## _logpdfm2_PLP"
   ]
  },
  {
   "cell_type": "code",
   "execution_count": 8,
   "metadata": {},
   "outputs": [
    {
     "name": "stdout",
     "output_type": "stream",
     "text": [
      "216 ms ± 35.9 ms per loop (mean ± std. dev. of 7 runs, 1 loop each)\n"
     ]
    }
   ],
   "source": [
    "%%timeit\n",
    "mgcp = mf._logpdfm2(m2, beta, dm, ml)"
   ]
  },
  {
   "cell_type": "code",
   "execution_count": 9,
   "metadata": {},
   "outputs": [
    {
     "name": "stdout",
     "output_type": "stream",
     "text": [
      "104 ms ± 9.91 ms per loop (mean ± std. dev. of 7 runs, 10 loops each)\n"
     ]
    }
   ],
   "source": [
    "%%timeit\n",
    "my = mass._logpdfm2_PLP(m2, ml, beta, dm)"
   ]
  },
  {
   "cell_type": "code",
   "execution_count": 11,
   "metadata": {},
   "outputs": [
    {
     "name": "stdout",
     "output_type": "stream",
     "text": [
      "Finite [-7.61902382e+05 -2.96293963e+05 -1.83905724e+05 ...  3.73018769e+00\n",
      "  3.73018777e+00  3.73018785e+00]\n",
      "N Finite 9595959\n",
      "\n",
      "Finite [-7.61902382e+05 -2.96293963e+05 -1.83905724e+05 ...  3.73018769e+00\n",
      "  3.73018777e+00  3.73018785e+00]\n",
      "N Finite 9595959\n",
      "\n",
      "Equal?  True\n",
      "Equal finite?  True\n"
     ]
    }
   ],
   "source": [
    "mgcp = mf._logpdfm2(m2, beta, dm, ml)\n",
    "finite_mgcp = np.isfinite(mgcp)\n",
    "print(\"Finite\", mgcp[np.isfinite(mgcp)])\n",
    "print(\"N Finite\", np.isfinite(mgcp).sum())\n",
    "\n",
    "\n",
    "my = mass._logpdfm2_PLP(m2, ml, beta, dm)\n",
    "finite_my   = np.isfinite(my)\n",
    "\n",
    "print(\"\\nFinite\", my[np.isfinite(my)])\n",
    "print(\"N Finite\", np.isfinite(my).sum())\n",
    "\n",
    "diff_perc_finite = (my[finite_mgcp]-mgcp[finite_mgcp])/mgcp[finite_mgcp]\n",
    "print(\"\\nEqual? \", np.isclose(mgcp,my, rtol=1e-3).all())\n",
    "print(\"Equal finite? \", np.isclose(finite_mgcp,finite_my).all())\n",
    "# print(\"DIFF PERC: \", (my-mgcp)/mgcp)"
   ]
  },
  {
   "cell_type": "code",
   "execution_count": 12,
   "metadata": {},
   "outputs": [
    {
     "data": {
      "text/plain": [
       "[<matplotlib.lines.Line2D at 0x7ffa330ed490>]"
      ]
     },
     "execution_count": 12,
     "metadata": {},
     "output_type": "execute_result"
    },
    {
     "data": {
      "image/png": "[encoded data removed]",
      "text/plain": [
       "<Figure size 432x288 with 1 Axes>"
      ]
     },
     "metadata": {
      "needs_background": "light"
     },
     "output_type": "display_data"
    }
   ],
   "source": [
    "# plt.plot(m1[finite_mgcp],my[finite_mgcp])\n",
    "# plt.plot(m1[finite_mgcp],mgcp[finite_mgcp])\n",
    "plt.plot(m2[finite_mgcp],diff_perc_finite)\n",
    "\n",
    "# plt.ylim(-20,0)"
   ]
  },
  {
   "cell_type": "markdown",
   "metadata": {},
   "source": [
    "## _logC_PLP"
   ]
  },
  {
   "cell_type": "code",
   "execution_count": 14,
   "metadata": {},
   "outputs": [
    {
     "name": "stdout",
     "output_type": "stream",
     "text": [
      "218 ms ± 45.7 ms per loop (mean ± std. dev. of 7 runs, 1 loop each)\n"
     ]
    }
   ],
   "source": [
    "%%timeit\n",
    "mgcp = mf._logC(m1, beta, dm, ml)"
   ]
  },
  {
   "cell_type": "code",
   "execution_count": 15,
   "metadata": {},
   "outputs": [
    {
     "name": "stdout",
     "output_type": "stream",
     "text": [
      "133 ms ± 5.1 ms per loop (mean ± std. dev. of 7 runs, 1 loop each)\n"
     ]
    }
   ],
   "source": [
    "%%timeit\n",
    "my = mass._logC_PLP(m1, ml, beta, dm)"
   ]
  },
  {
   "cell_type": "code",
   "execution_count": 16,
   "metadata": {},
   "outputs": [
    {
     "name": "stdout",
     "output_type": "stream",
     "text": [
      "Finite [182.91812682 182.91812682 182.91812682 ...  -7.75110615  -7.75110633\n",
      "  -7.75110651]\n",
      "N Finite 10000000\n",
      "\n",
      "Finite [182.91812682 182.91812682 182.91812682 ...  -7.75110615  -7.75110633\n",
      "  -7.75110651]\n",
      "N Finite 10000000\n",
      "\n",
      "Equal?  True\n",
      "Equal finite?  True\n"
     ]
    }
   ],
   "source": [
    "mgcp = mf._logC(m1, beta, dm, ml)\n",
    "finite_mgcp = np.isfinite(mgcp)\n",
    "print(\"Finite\", mgcp[np.isfinite(mgcp)])\n",
    "print(\"N Finite\", np.isfinite(mgcp).sum())\n",
    "\n",
    "\n",
    "my = mass._logC_PLP(m1, ml, beta, dm)\n",
    "finite_my   = np.isfinite(my)\n",
    "\n",
    "print(\"\\nFinite\", my[np.isfinite(my)])\n",
    "print(\"N Finite\", np.isfinite(my).sum())\n",
    "\n",
    "diff_perc_finite = (my[finite_mgcp]-mgcp[finite_mgcp])/mgcp[finite_mgcp]\n",
    "print(\"\\nEqual? \", np.isclose(mgcp,my, rtol=1e-3).all())\n",
    "print(\"Equal finite? \", np.isclose(finite_mgcp,finite_my).all())\n",
    "# print(\"DIFF PERC: \", (my-mgcp)/mgcp)"
   ]
  },
  {
   "cell_type": "code",
   "execution_count": 17,
   "metadata": {},
   "outputs": [
    {
     "data": {
      "text/plain": [
       "[<matplotlib.lines.Line2D at 0x7ffa0acf28e0>]"
      ]
     },
     "execution_count": 17,
     "metadata": {},
     "output_type": "execute_result"
    },
    {
     "data": {
      "image/png": "[encoded data removed]",
      "text/plain": [
       "<Figure size 432x288 with 1 Axes>"
      ]
     },
     "metadata": {
      "needs_background": "light"
     },
     "output_type": "display_data"
    }
   ],
   "source": [
    "# plt.plot(m1[finite_mgcp],my[finite_mgcp])\n",
    "# plt.plot(m1[finite_mgcp],mgcp[finite_mgcp])\n",
    "plt.plot(m2[finite_mgcp],diff_perc_finite)\n",
    "\n",
    "# plt.ylim(-20,0)"
   ]
  },
  {
   "cell_type": "markdown",
   "metadata": {},
   "source": [
    "## _logN_PLP"
   ]
  },
  {
   "cell_type": "code",
   "execution_count": 2,
   "metadata": {},
   "outputs": [
    {
     "name": "stdout",
     "output_type": "stream",
     "text": [
      "284 µs ± 88.5 µs per loop (mean ± std. dev. of 7 runs, 1,000 loops each)\n"
     ]
    }
   ],
   "source": [
    "%%timeit\n",
    "mgcp = mf._logNorm(lambdaPeak, alpha, dm, ml, mh, mu, sigma)"
   ]
  },
  {
   "cell_type": "code",
   "execution_count": 3,
   "metadata": {},
   "outputs": [
    {
     "name": "stdout",
     "output_type": "stream",
     "text": [
      "148 µs ± 4.67 µs per loop (mean ± std. dev. of 7 runs, 10,000 loops each)\n"
     ]
    }
   ],
   "source": [
    "%%timeit\n",
    "my = mass._logN_PLP(ml, mh, alpha, dm, lambdaPeak, mu, sigma)"
   ]
  },
  {
   "cell_type": "code",
   "execution_count": 4,
   "metadata": {},
   "outputs": [
    {
     "name": "stdout",
     "output_type": "stream",
     "text": [
      "Finite [-0.13021244]\n",
      "N Finite 1\n",
      "\n",
      "Finite [-0.13021244]\n",
      "N Finite 1\n",
      "\n",
      "Equal?  True\n",
      "Equal finite?  True\n"
     ]
    }
   ],
   "source": [
    "mgcp = mf._logNorm(lambdaPeak, alpha, dm, ml, mh, mu, sigma)\n",
    "finite_mgcp = np.isfinite(mgcp)\n",
    "print(\"Finite\", mgcp[np.isfinite(mgcp)])\n",
    "print(\"N Finite\", np.isfinite(mgcp).sum())\n",
    "\n",
    "\n",
    "my = mass._logN_PLP(ml, mh, alpha, dm, lambdaPeak, mu, sigma)\n",
    "finite_my   = np.isfinite(my)\n",
    "\n",
    "print(\"\\nFinite\", my[np.isfinite(my)])\n",
    "print(\"N Finite\", np.isfinite(my).sum())\n",
    "\n",
    "diff_perc_finite = (my[finite_mgcp]-mgcp[finite_mgcp])/mgcp[finite_mgcp]\n",
    "print(\"\\nEqual? \", np.isclose(mgcp,my, rtol=1e-3).all())\n",
    "print(\"Equal finite? \", np.isclose(finite_mgcp,finite_my).all())\n",
    "# print(\"DIFF PERC: \", (my-mgcp)/mgcp)"
   ]
  },
  {
   "cell_type": "markdown",
   "metadata": {},
   "source": []
  },
  {
   "cell_type": "markdown",
   "metadata": {},
   "source": [
    "## logpdf"
   ]
  },
  {
   "cell_type": "code",
   "execution_count": 9,
   "metadata": {},
   "outputs": [
    {
     "name": "stdout",
     "output_type": "stream",
     "text": [
      "922 ms ± 32.8 ms per loop (mean ± std. dev. of 7 runs, 1 loop each)\n"
     ]
    }
   ],
   "source": [
    "%%timeit\n",
    "mgcp = mf.logpdf([m1,m2], [lambdaPeak, alpha, beta, dm, ml, mh, mu, sigma])"
   ]
  },
  {
   "cell_type": "code",
   "execution_count": 10,
   "metadata": {},
   "outputs": [
    {
     "name": "stdout",
     "output_type": "stream",
     "text": [
      "701 ms ± 29.5 ms per loop (mean ± std. dev. of 7 runs, 1 loop each)\n"
     ]
    }
   ],
   "source": [
    "%%timeit\n",
    "my = mass.logpdf_PLP(m1, m2, ml, mh, alpha, beta, dm, lambdaPeak, mu, sigma)"
   ]
  },
  {
   "cell_type": "code",
   "execution_count": 7,
   "metadata": {},
   "outputs": [
    {
     "name": "stdout",
     "output_type": "stream",
     "text": [
      "Finite [-7.61904722e+05 -2.96296303e+05 -1.83908064e+05 ... -1.74997274e+01\n",
      " -1.74997278e+01 -1.74997283e+01]\n",
      "N Finite 9595959\n",
      "\n",
      "Finite [-7.61904722e+05 -2.96296303e+05 -1.83908064e+05 ... -1.74997274e+01\n",
      " -1.74997278e+01 -1.74997283e+01]\n",
      "N Finite 9595959\n",
      "\n",
      "Equal?  True\n",
      "Equal finite?  True\n"
     ]
    }
   ],
   "source": [
    "mgcp = mf.logpdf([m1,m2], [lambdaPeak, alpha, beta, dm, ml, mh, mu, sigma])\n",
    "finite_mgcp = np.isfinite(mgcp)\n",
    "print(\"Finite\", mgcp[np.isfinite(mgcp)])\n",
    "print(\"N Finite\", np.isfinite(mgcp).sum())\n",
    "\n",
    "\n",
    "my = mass.logpdf_PLP(m1, m2, ml, mh, alpha, beta, dm, lambdaPeak, mu, sigma)\n",
    "finite_my   = np.isfinite(my)\n",
    "\n",
    "print(\"\\nFinite\", my[np.isfinite(my)])\n",
    "print(\"N Finite\", np.isfinite(my).sum())\n",
    "\n",
    "diff_perc_finite = (my[finite_mgcp]-mgcp[finite_mgcp])/mgcp[finite_mgcp]\n",
    "print(\"\\nEqual? \", np.isclose(mgcp,my, rtol=1e-3).all())\n",
    "print(\"Equal finite? \", np.isclose(finite_mgcp,finite_my).all())\n",
    "# print(\"DIFF PERC: \", (my-mgcp)/mgcp)"
   ]
  },
  {
   "cell_type": "code",
   "execution_count": 8,
   "metadata": {},
   "outputs": [
    {
     "data": {
      "text/plain": [
       "[<matplotlib.lines.Line2D at 0x7fdde57be4c0>]"
      ]
     },
     "execution_count": 8,
     "metadata": {},
     "output_type": "execute_result"
    },
    {
     "data": {
      "image/png": "[encoded data removed]",
      "text/plain": [
       "<Figure size 432x288 with 1 Axes>"
      ]
     },
     "metadata": {
      "needs_background": "light"
     },
     "output_type": "display_data"
    }
   ],
   "source": [
    "# plt.plot(m1[finite_mgcp],my[finite_mgcp])\n",
    "# plt.plot(m1[finite_mgcp],mgcp[finite_mgcp])\n",
    "plt.plot(m1[finite_mgcp],diff_perc_finite)\n",
    "\n",
    "# plt.ylim(-20,0)"
   ]
  },
  {
   "cell_type": "code",
   "execution_count": null,
   "metadata": {},
   "outputs": [],
   "source": []
  }
 ],
 "metadata": {
  "kernelspec": {
   "display_name": "Python 3.9.12 ('base': conda)",
   "language": "python",
   "name": "python3"
  },
  "language_info": {
   "codemirror_mode": {
    "name": "ipython",
    "version": 3
   },
   "file_extension": ".py",
   "mimetype": "text/x-python",
   "name": "python",
   "nbconvert_exporter": "python",
   "pygments_lexer": "ipython3",
   "version": "3.9.12"
  },
  "orig_nbformat": 4,
  "vscode": {
   "interpreter": {
    "hash": "b3b11bcf26c1c3ef01c59a0960d1f50a2ca7f67082e383fd6e549d6ed58fc813"
   }
  }
 },
 "nbformat": 4,
 "nbformat_minor": 2
}
